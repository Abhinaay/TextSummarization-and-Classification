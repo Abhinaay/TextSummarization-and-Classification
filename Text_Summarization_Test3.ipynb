{
  "nbformat": 4,
  "nbformat_minor": 0,
  "metadata": {
    "colab": {
      "name": "Text_Summarization_Test3.ipynb",
      "provenance": [],
      "authorship_tag": "ABX9TyNdxe7FLFCJwMj10TbthbC3",
      "include_colab_link": true
    },
    "kernelspec": {
      "name": "python3",
      "display_name": "Python 3"
    }
  },
  "cells": [
    {
      "cell_type": "markdown",
      "metadata": {
        "id": "view-in-github",
        "colab_type": "text"
      },
      "source": [
        "<a href=\"https://colab.research.google.com/github/Abhinaay/TextSummarization-and-Classification/blob/master/Text_Summarization_Test3.ipynb\" target=\"_parent\"><img src=\"https://colab.research.google.com/assets/colab-badge.svg\" alt=\"Open In Colab\"/></a>"
      ]
    },
    {
      "cell_type": "markdown",
      "metadata": {
        "id": "nzsvtx6fd34D",
        "colab_type": "text"
      },
      "source": [
        "**Implementation of Tf-idf with stemming.**"
      ]
    },
    {
      "cell_type": "code",
      "metadata": {
        "id": "dA20hT9Hdu-c",
        "colab_type": "code",
        "outputId": "82b49a30-bc43-4ec5-ec92-ea76623a0d1c",
        "colab": {
          "base_uri": "https://localhost:8080/",
          "height": 51
        }
      },
      "source": [
        "import numpy as np\n",
        "import pandas as pd\n",
        "import nltk\n",
        "nltk.download('punkt')\n",
        "import re\n",
        "import bs4 as bs\n",
        "import urllib.request"
      ],
      "execution_count": 0,
      "outputs": [
        {
          "output_type": "stream",
          "text": [
            "[nltk_data] Downloading package punkt to /root/nltk_data...\n",
            "[nltk_data]   Unzipping tokenizers/punkt.zip.\n"
          ],
          "name": "stdout"
        }
      ]
    },
    {
      "cell_type": "code",
      "metadata": {
        "id": "N6IS_foPeXzf",
        "colab_type": "code",
        "colab": {}
      },
      "source": [
        "scraped_data = urllib.request.urlopen('https://en.wikipedia.org/wiki/Narendra_Modi')\n",
        "article = scraped_data.read()"
      ],
      "execution_count": 0,
      "outputs": []
    },
    {
      "cell_type": "code",
      "metadata": {
        "id": "ypxc-3CteaDO",
        "colab_type": "code",
        "colab": {}
      },
      "source": [
        "parsed_article = bs.BeautifulSoup(article,'lxml')\n",
        "paragraphs = parsed_article.find_all('p')\n",
        "article_text = \"\"\n",
        "for p in paragraphs:\n",
        "    article_text += p.text"
      ],
      "execution_count": 0,
      "outputs": []
    },
    {
      "cell_type": "code",
      "metadata": {
        "id": "Pi70qwQ9ecIU",
        "colab_type": "code",
        "colab": {}
      },
      "source": [
        "# Sentence Tokenization\n",
        "sentences = nltk.sent_tokenize(article_text)"
      ],
      "execution_count": 0,
      "outputs": []
    },
    {
      "cell_type": "code",
      "metadata": {
        "id": "TMQYYIoXejax",
        "colab_type": "code",
        "colab": {}
      },
      "source": [
        "# Create the Frequency matrix of the words in each sentence.\n",
        "def _create_frequency_matrix(sentences):\n",
        "    frequency_matrix = {}\n",
        "    stopWords = set(stopwords.words(\"english\"))\n",
        "    ps = PorterStemmer()\n",
        "\n",
        "    for sent in sentences:\n",
        "        freq_table = {}\n",
        "        words = word_tokenize(sent)\n",
        "        for word in words:\n",
        "            word = word.lower()\n",
        "            word = ps.stem(word)\n",
        "            if word in stopWords:\n",
        "                continue\n",
        "\n",
        "            if word in freq_table:\n",
        "                freq_table[word] += 1\n",
        "            else:\n",
        "                freq_table[word] = 1\n",
        "\n",
        "        frequency_matrix[sent[:15]] = freq_table\n",
        "\n",
        "    return frequency_matrix"
      ],
      "execution_count": 0,
      "outputs": []
    },
    {
      "cell_type": "code",
      "metadata": {
        "id": "ZGkw_0NueuqG",
        "colab_type": "code",
        "colab": {}
      },
      "source": [
        "# Calculate tf and generate matrix\n",
        "def _create_tf_matrix(freq_matrix):\n",
        "    tf_matrix = {}\n",
        "\n",
        "    for sent, f_table in freq_matrix.items():\n",
        "        tf_table = {}\n",
        "\n",
        "        count_words_in_sentence = len(f_table)\n",
        "        for word, count in f_table.items():\n",
        "            tf_table[word] = count / count_words_in_sentence\n",
        "\n",
        "        tf_matrix[sent] = tf_table\n",
        "\n",
        "    return tf_matrix"
      ],
      "execution_count": 0,
      "outputs": []
    },
    {
      "cell_type": "code",
      "metadata": {
        "id": "a23Xug_ye6VR",
        "colab_type": "code",
        "colab": {}
      },
      "source": [
        "#  Creating a table for documents per words\n",
        "def _create_documents_per_words(freq_matrix):\n",
        "    word_per_doc_table = {}\n",
        "\n",
        "    for sent, f_table in freq_matrix.items():\n",
        "        for word, count in f_table.items():\n",
        "            if word in word_per_doc_table:\n",
        "                word_per_doc_table[word] += 1\n",
        "            else:\n",
        "                word_per_doc_table[word] = 1\n",
        "\n",
        "    return word_per_doc_table"
      ],
      "execution_count": 0,
      "outputs": []
    },
    {
      "cell_type": "code",
      "metadata": {
        "id": "3qCIRyLDfFa5",
        "colab_type": "code",
        "colab": {}
      },
      "source": [
        "# Calculate IDF and generate a matrix\n",
        "def _create_idf_matrix(freq_matrix, count_doc_per_words, total_documents):\n",
        "    idf_matrix = {}\n",
        "\n",
        "    for sent, f_table in freq_matrix.items():\n",
        "        idf_table = {}\n",
        "\n",
        "        for word in f_table.keys():\n",
        "            idf_table[word] = math.log10(total_documents / float(count_doc_per_words[word]))\n",
        "\n",
        "        idf_matrix[sent] = idf_table\n",
        "\n",
        "    return idf_matrix"
      ],
      "execution_count": 0,
      "outputs": []
    },
    {
      "cell_type": "code",
      "metadata": {
        "id": "_rOhz0YFfLmS",
        "colab_type": "code",
        "colab": {}
      },
      "source": [
        "# Calculate TF-IDF and generate a matrix\n",
        "def _create_tf_idf_matrix(tf_matrix, idf_matrix):\n",
        "    tf_idf_matrix = {}\n",
        "\n",
        "    for (sent1, f_table1), (sent2, f_table2) in zip(tf_matrix.items(), idf_matrix.items()):\n",
        "\n",
        "        tf_idf_table = {}\n",
        "\n",
        "        for (word1, value1), (word2, value2) in zip(f_table1.items(),\n",
        "                                                    f_table2.items()):  \n",
        "            tf_idf_table[word1] = float(value1 * value2)\n",
        "\n",
        "        tf_idf_matrix[sent1] = tf_idf_table\n",
        "\n",
        "    return tf_idf_matrix"
      ],
      "execution_count": 0,
      "outputs": []
    },
    {
      "cell_type": "code",
      "metadata": {
        "id": "BYgCb9iNfSVR",
        "colab_type": "code",
        "colab": {}
      },
      "source": [
        "# Score the sentences\n",
        "def _score_sentences(tf_idf_matrix) -> dict:\n",
        "    sentenceValue = {}\n",
        "\n",
        "    for sent, f_table in tf_idf_matrix.items():\n",
        "        total_score_per_sentence = 0\n",
        "\n",
        "        count_words_in_sentence = len(f_table)\n",
        "        for word, score in f_table.items():\n",
        "            total_score_per_sentence += score\n",
        "\n",
        "        sentenceValue[sent] = total_score_per_sentence / count_words_in_sentence\n",
        "\n",
        "    return sentenceValue"
      ],
      "execution_count": 0,
      "outputs": []
    },
    {
      "cell_type": "code",
      "metadata": {
        "id": "owGEDyJ2fXx-",
        "colab_type": "code",
        "colab": {}
      },
      "source": [
        "# Find the threshold\n",
        "def _find_average_score(sentenceValue) -> int:\n",
        "    \n",
        "    sumValues = 0\n",
        "    for entry in sentenceValue:\n",
        "        sumValues += sentenceValue[entry]\n",
        "\n",
        "    average = (sumValues / len(sentenceValue))\n",
        "\n",
        "    return average"
      ],
      "execution_count": 0,
      "outputs": []
    },
    {
      "cell_type": "code",
      "metadata": {
        "id": "ZS6N0Ivefc-T",
        "colab_type": "code",
        "colab": {}
      },
      "source": [
        "# Generate the summary\n",
        "def _generate_summary(sentences, sentenceValue, threshold):\n",
        "    sentence_count = 0\n",
        "    summary = ''\n",
        "\n",
        "    for sentence in sentences:\n",
        "        if sentence[:15] in sentenceValue and sentenceValue[sentence[:15]] >= (threshold):\n",
        "            summary += \" \" + sentence\n",
        "            sentence_count += 1\n",
        "\n",
        "    return summary"
      ],
      "execution_count": 0,
      "outputs": []
    },
    {
      "cell_type": "code",
      "metadata": {
        "id": "A94p8J5EgnZj",
        "colab_type": "code",
        "outputId": "19f52ac5-6471-4206-c657-5555212451f9",
        "colab": {
          "base_uri": "https://localhost:8080/",
          "height": 68
        }
      },
      "source": [
        "import nltk\n",
        "nltk.download('stopwords')"
      ],
      "execution_count": 0,
      "outputs": [
        {
          "output_type": "stream",
          "text": [
            "[nltk_data] Downloading package stopwords to /root/nltk_data...\n",
            "[nltk_data]   Unzipping corpora/stopwords.zip.\n"
          ],
          "name": "stdout"
        },
        {
          "output_type": "execute_result",
          "data": {
            "text/plain": [
              "True"
            ]
          },
          "metadata": {
            "tags": []
          },
          "execution_count": 14
        }
      ]
    },
    {
      "cell_type": "code",
      "metadata": {
        "id": "7KprSRoTfioo",
        "colab_type": "code",
        "outputId": "faf65478-a795-42ea-aa84-83c20230e7ec",
        "colab": {
          "base_uri": "https://localhost:8080/",
          "height": 54
        }
      },
      "source": [
        "import math\n",
        "\n",
        "from nltk import sent_tokenize, word_tokenize, PorterStemmer\n",
        "from nltk.corpus import stopwords    \n",
        "    \n",
        "total_documents = len(sentences)\n",
        "\n",
        "freq_matrix = _create_frequency_matrix(sentences)\n",
        "\n",
        "tf_matrix = _create_tf_matrix(freq_matrix)\n",
        "\n",
        "count_doc_per_words = _create_documents_per_words(freq_matrix)\n",
        "\n",
        "idf_matrix = _create_idf_matrix(freq_matrix, count_doc_per_words, total_documents)\n",
        "\n",
        "tf_idf_matrix = _create_tf_idf_matrix(tf_matrix, idf_matrix)\n",
        "\n",
        "sentence_scores = _score_sentences(tf_idf_matrix)\n",
        "\n",
        "threshold = _find_average_score(sentence_scores)\n",
        "\n",
        "summary = _generate_summary(sentences, sentence_scores, 1.5 * threshold)\n",
        "print(summary)"
      ],
      "execution_count": 0,
      "outputs": [
        {
          "output_type": "stream",
          "text": [
            " He is the first prime minister outside of the Indian National Congress to win two consecutive terms with a full majority and the second to complete five years in office after Atal Bihari Vajpayee. He was introduced to the RSS at the age of eight, beginning a long association with the organisation. In 1971 he became a full-time worker for the RSS. Modi was elected to the legislative assembly soon after. He began a high-profile sanitation campaign and weakened or abolished environmental and labour laws. He initiated a controversial demonetisation of high-denomination banknotes. 1920). Shortly afterwards, the RSS was banned. [91] Independent sources put the death toll at over 2000. [85][92] Approximately 150,000 people were driven to refugee camps. [110][111] The Supreme Court gave the matter to the magistrate's court. Zakia Jaffri filed a protest petition in response. His policies during his second term have been credited with reducing corruption in the state. By December 2008, 500,000 structures had been built, of which 113,738 were check dams, which helped recharge the aquifers beneath them. The Sardar Sarovar project only irrigated 4–6% of the area intended. Several other companies followed the Tata's to Gujarat. In 2013 the state ranked 10th of 21 Indian states in the Human Development Index. Modi only attended Hindu religious ceremonies, and had prominent associations with Hindu religious leaders. The BJP did not nominate any Muslim candidates for the assembly election of 2012. Anandiben Patel succeeded him as the chief minister. It performed particularly well in parts of the country that had recently experienced violence between Hindus and Muslims. International humanitarian aid organisation Medecins Sans Frontieres was among the groups that were put under pressure. [128] Other organisations affected included the Sierra Club and Avaaz. The scheme led to an increase in LPG consumption by 56% in 2019 as compared to 2014. The Supreme Court ordered the land to be handed over to a trust to build the Hindu temple. It subsumed around 17 different taxes and became effective from 1 July 2017. [220] Several deaths were linked to the rush to exchange cash. The budget was viewed positively by private insurance providers. 100,000 people had signed up by October 2018. The construction projects have faced allegations of corruption, and have faced severe difficulty in getting people to use the toilets constructed for them. The Naga insurgency in northeast India had begun in the 1950s. The NSCM-K responded with a series of attacks, which killed 18 people. The Indian media claimed that up to 50 terrorists and Pakistani soldiers had been killed in the strike. Further military skirmishes followed, including cross-border shelling and the loss of an Indian aircraft. He was engaged at age 13 to Jashodaben, marrying her when he was 18. Modi authored eight other books, mostly containing short stories for children. He is the first Indian to win the award. [336] In the show he trekked the jungles and talked about nature and wildlife conservation with Grylls. [342][343]\n"
          ],
          "name": "stdout"
        }
      ]
    },
    {
      "cell_type": "code",
      "metadata": {
        "id": "mVJ32f_CgjAc",
        "colab_type": "code",
        "colab": {}
      },
      "source": [
        ""
      ],
      "execution_count": 0,
      "outputs": []
    }
  ]
}