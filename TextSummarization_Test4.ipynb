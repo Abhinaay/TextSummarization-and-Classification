{
  "nbformat": 4,
  "nbformat_minor": 0,
  "metadata": {
    "colab": {
      "name": "TextSummarization_Test4.ipynb",
      "provenance": [],
      "collapsed_sections": [],
      "authorship_tag": "ABX9TyPhy4amNt4sPPmwIiSnoUh7",
      "include_colab_link": true
    },
    "kernelspec": {
      "name": "python3",
      "display_name": "Python 3"
    }
  },
  "cells": [
    {
      "cell_type": "markdown",
      "metadata": {
        "id": "view-in-github",
        "colab_type": "text"
      },
      "source": [
        "<a href=\"https://colab.research.google.com/github/Abhinaay/TextSummarization-and-Classification/blob/master/TextSummarization_Test4.ipynb\" target=\"_parent\"><img src=\"https://colab.research.google.com/assets/colab-badge.svg\" alt=\"Open In Colab\"/></a>"
      ]
    },
    {
      "cell_type": "code",
      "metadata": {
        "id": "mWLHT8rl-6zX",
        "colab_type": "code",
        "colab": {}
      },
      "source": [
        "import bs4 as bs\n",
        "import urllib.request\n",
        "import re"
      ],
      "execution_count": 0,
      "outputs": []
    },
    {
      "cell_type": "code",
      "metadata": {
        "id": "WSHpLLR7_ZEH",
        "colab_type": "code",
        "colab": {}
      },
      "source": [
        "scraped_data = urllib.request.urlopen('https://en.wikipedia.org/wiki/Virat_Kohli')\n",
        "article = scraped_data.read()"
      ],
      "execution_count": 0,
      "outputs": []
    },
    {
      "cell_type": "code",
      "metadata": {
        "id": "4SxwgbfK_fxH",
        "colab_type": "code",
        "colab": {}
      },
      "source": [
        "parsed_article = bs.BeautifulSoup(article,'lxml')\n",
        "paragraphs = parsed_article.find_all('p')\n",
        "article_text = \"\"\n",
        "for p in paragraphs:\n",
        "    article_text += p.text"
      ],
      "execution_count": 0,
      "outputs": []
    },
    {
      "cell_type": "code",
      "metadata": {
        "id": "7F97OhVjcTgI",
        "colab_type": "code",
        "colab": {}
      },
      "source": [
        "article_text=\"Indian talisman Virat Kohli might have had a tough time with the bat in recent time but that couldn’t take away his right to get applauded by the South African veteran Jonty Rhodes. Kohli also had a really tough tour of New Zealand as captain because the Indian team was whitewashed by the Black Caps in both ODI and Test series after clinching the T20I series 5-0. Well, it was really a tough phase for Kohli, but still, the 30-year-old is a legend of the modern-day cricket and Rhodes has showered rich praise on the world’s best batsman, calling him the most powerful figure in the Indian cricket team. Rhodes is also highly impressed with two other Indian cricketers and they are Jasprit Bumrah – whose progress and performances he has seen closely while working for Mumbai Indians in the IPL, and Suresh Raina – whom he lauded as one of the finest fielders in the cricketing world. The former Proteas cricket told Times of India, “I feel the most powerful player in the Indian cricket team is Virat Kohli. He has been consistent with his performance and is an overall package. I also really appreciate the performance of Bumrah and Suresh Raina. The entire Indian cricket team has a lot of potential in it.” Rhodes even revealed what inspired him to take up the role of the Kings XI Punjab’s fielding coach in the IPL 2020. 'I did not approach KXIP, I got a call. Because it was Anil Kumble and he was in charge, I quite happily said ‘yes’. I really like the way he works. He is a thinking man’s cricketer. He is someone who has played top-level cricket, but with a real brain around, away from cricket too. And I think you need that. If you’re going to be a head coach ,mentoring a team, you got to be more than just a cricketer,' the 50-year-old added.\""
      ],
      "execution_count": 0,
      "outputs": []
    },
    {
      "cell_type": "markdown",
      "metadata": {
        "id": "gKfpHB3q_tVH",
        "colab_type": "text"
      },
      "source": [
        "# **Preprocessing**"
      ]
    },
    {
      "cell_type": "code",
      "metadata": {
        "id": "XZXEsfSF_9i-",
        "colab_type": "code",
        "outputId": "9e58a6b3-6138-4186-acb4-a03cc304a6cb",
        "colab": {
          "base_uri": "https://localhost:8080/",
          "height": 102
        }
      },
      "source": [
        "import numpy as np\n",
        "import pandas as pd\n",
        "import nltk\n",
        "from nltk.corpus import stopwords\n",
        "nltk.download('stopwords')\n",
        "nltk.download('punkt')"
      ],
      "execution_count": 151,
      "outputs": [
        {
          "output_type": "stream",
          "text": [
            "[nltk_data] Downloading package stopwords to /root/nltk_data...\n",
            "[nltk_data]   Package stopwords is already up-to-date!\n",
            "[nltk_data] Downloading package punkt to /root/nltk_data...\n",
            "[nltk_data]   Package punkt is already up-to-date!\n"
          ],
          "name": "stdout"
        },
        {
          "output_type": "execute_result",
          "data": {
            "text/plain": [
              "True"
            ]
          },
          "metadata": {
            "tags": []
          },
          "execution_count": 151
        }
      ]
    },
    {
      "cell_type": "code",
      "metadata": {
        "id": "8Ej3YCXWADZu",
        "colab_type": "code",
        "colab": {}
      },
      "source": [
        "# Sentence Tokenization\n",
        "sentences = nltk.sent_tokenize(article_text)"
      ],
      "execution_count": 0,
      "outputs": []
    },
    {
      "cell_type": "code",
      "metadata": {
        "id": "g9E47aLHCIHh",
        "colab_type": "code",
        "colab": {}
      },
      "source": [
        "res = [] \n",
        "for i in sentences: \n",
        "    if i not in res: \n",
        "        res.append(i) \n",
        "\n",
        "sentences=res"
      ],
      "execution_count": 0,
      "outputs": []
    },
    {
      "cell_type": "code",
      "metadata": {
        "id": "_JaUltMHBQuh",
        "colab_type": "code",
        "colab": {}
      },
      "source": [
        "# remove punctuations, numbers and special characters\n",
        "clean_sentences = pd.Series(sentences).str.replace(\"[^a-zA-Z]\", \" \")\n",
        "\n",
        "# make alphabets lowercase\n",
        "clean_sentences = [s.lower() for s in clean_sentences]"
      ],
      "execution_count": 0,
      "outputs": []
    },
    {
      "cell_type": "code",
      "metadata": {
        "id": "WmQqWnHbCQpc",
        "colab_type": "code",
        "colab": {}
      },
      "source": [
        "from nltk.corpus import stopwords\n",
        "stop_words = stopwords.words('english')"
      ],
      "execution_count": 0,
      "outputs": []
    },
    {
      "cell_type": "code",
      "metadata": {
        "id": "1dpwNi7TB7__",
        "colab_type": "code",
        "colab": {}
      },
      "source": [
        "# function to remove stopwords\n",
        "def remove_stopwords(sen):\n",
        "    sen_new = \" \".join([i for i in sen if i not in stop_words])\n",
        "    return sen_new"
      ],
      "execution_count": 0,
      "outputs": []
    },
    {
      "cell_type": "code",
      "metadata": {
        "id": "FXUGbINMCMyj",
        "colab_type": "code",
        "colab": {}
      },
      "source": [
        "# remove stopwords from the sentences\n",
        "clean_sentences = [remove_stopwords(r.split()) for r in clean_sentences]"
      ],
      "execution_count": 0,
      "outputs": []
    },
    {
      "cell_type": "code",
      "metadata": {
        "id": "t-m-A-tkCkzK",
        "colab_type": "code",
        "colab": {}
      },
      "source": [
        "\n",
        "res = [] \n",
        "for i in clean_sentences: \n",
        "    if i not in res: \n",
        "        res.append(i) \n",
        "\n",
        "clean_sentences=res"
      ],
      "execution_count": 0,
      "outputs": []
    },
    {
      "cell_type": "code",
      "metadata": {
        "id": "8fe0paeeDc2z",
        "colab_type": "code",
        "colab": {
          "base_uri": "https://localhost:8080/",
          "height": 34
        },
        "outputId": "5357005e-92ad-418a-cdfe-a47ce29739b5"
      },
      "source": [
        "len(clean_sentences)"
      ],
      "execution_count": 159,
      "outputs": [
        {
          "output_type": "execute_result",
          "data": {
            "text/plain": [
              "15"
            ]
          },
          "metadata": {
            "tags": []
          },
          "execution_count": 159
        }
      ]
    },
    {
      "cell_type": "code",
      "metadata": {
        "id": "PwcOEzgcDvuy",
        "colab_type": "code",
        "colab": {}
      },
      "source": [
        "from sklearn.feature_extraction.text import TfidfVectorizer"
      ],
      "execution_count": 0,
      "outputs": []
    },
    {
      "cell_type": "code",
      "metadata": {
        "id": "88mPIaFgVOWQ",
        "colab_type": "code",
        "colab": {}
      },
      "source": [
        "vectorizer = TfidfVectorizer()\n",
        ">>> X = vectorizer.fit_transform(clean_sentences)"
      ],
      "execution_count": 0,
      "outputs": []
    },
    {
      "cell_type": "code",
      "metadata": {
        "id": "GX8-s9sTVU4L",
        "colab_type": "code",
        "colab": {
          "base_uri": "https://localhost:8080/",
          "height": 34
        },
        "outputId": "e5466708-05b2-466a-c654-36c029992c5c"
      },
      "source": [
        "X.get_shape()"
      ],
      "execution_count": 162,
      "outputs": [
        {
          "output_type": "execute_result",
          "data": {
            "text/plain": [
              "(15, 127)"
            ]
          },
          "metadata": {
            "tags": []
          },
          "execution_count": 162
        }
      ]
    },
    {
      "cell_type": "code",
      "metadata": {
        "id": "2txiLK6DVVxd",
        "colab_type": "code",
        "colab": {}
      },
      "source": [
        "from sklearn.metrics.pairwise import cosine_similarity"
      ],
      "execution_count": 0,
      "outputs": []
    },
    {
      "cell_type": "code",
      "metadata": {
        "id": "k73Es01HVeWj",
        "colab_type": "code",
        "colab": {}
      },
      "source": [
        "similarities = cosine_similarity(X)"
      ],
      "execution_count": 0,
      "outputs": []
    },
    {
      "cell_type": "code",
      "metadata": {
        "id": "2a1lRBLdaD7t",
        "colab_type": "code",
        "colab": {}
      },
      "source": [
        "import networkx as nx\n",
        "\n",
        "nx_graph = nx.from_numpy_array(similarities)\n",
        "scores = nx.pagerank(nx_graph)"
      ],
      "execution_count": 0,
      "outputs": []
    },
    {
      "cell_type": "code",
      "metadata": {
        "id": "DsWD4OenaFaE",
        "colab_type": "code",
        "colab": {}
      },
      "source": [
        "# ranked_sentences = sorted(((scores[i],s) for i,s in enumerate(sentences)), reverse=True)\n",
        "ranked_sentences = sorted((s for s in sentences), reverse=True)"
      ],
      "execution_count": 0,
      "outputs": []
    },
    {
      "cell_type": "code",
      "metadata": {
        "id": "zV7f_psTabJ1",
        "colab_type": "code",
        "colab": {
          "base_uri": "https://localhost:8080/",
          "height": 207
        },
        "outputId": "e340867e-18c0-42f7-85c1-61faa0461f57"
      },
      "source": [
        "for i in range(10):\n",
        "  print(ranked_sentences[i+2])"
      ],
      "execution_count": 168,
      "outputs": [
        {
          "output_type": "stream",
          "text": [
            "The entire Indian cricket team has a lot of potential in it.” Rhodes even revealed what inspired him to take up the role of the Kings XI Punjab’s fielding coach in the IPL 2020.\n",
            "Rhodes is also highly impressed with two other Indian cricketers and they are Jasprit Bumrah – whose progress and performances he has seen closely while working for Mumbai Indians in the IPL, and Suresh Raina – whom he lauded as one of the finest fielders in the cricketing world.\n",
            "Kohli also had a really tough tour of New Zealand as captain because the Indian team was whitewashed by the Black Caps in both ODI and Test series after clinching the T20I series 5-0.\n",
            "Indian talisman Virat Kohli might have had a tough time with the bat in recent time but that couldn’t take away his right to get applauded by the South African veteran Jonty Rhodes.\n",
            "If you’re going to be a head coach ,mentoring a team, you got to be more than just a cricketer,' the 50-year-old added.\n",
            "I really like the way he works.\n",
            "I also really appreciate the performance of Bumrah and Suresh Raina.\n",
            "He is someone who has played top-level cricket, but with a real brain around, away from cricket too.\n",
            "He is a thinking man’s cricketer.\n",
            "He has been consistent with his performance and is an overall package.\n"
          ],
          "name": "stdout"
        }
      ]
    },
    {
      "cell_type": "code",
      "metadata": {
        "id": "0nCHzbnCa2gr",
        "colab_type": "code",
        "colab": {}
      },
      "source": [
        ""
      ],
      "execution_count": 0,
      "outputs": []
    }
  ]
}